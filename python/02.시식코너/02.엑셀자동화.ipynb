{
 "cells": [
  {
   "cell_type": "code",
   "execution_count": null,
   "id": "b454d20e",
   "metadata": {},
   "outputs": [],
   "source": [
    "import xlwings as xw\n",
    "\n",
    "wb = xw.Book()"
   ]
  },
  {
   "cell_type": "code",
   "execution_count": null,
   "id": "dc5636f9",
   "metadata": {},
   "outputs": [],
   "source": [
    "ws = wb.sheets[\"Sheet1\"]"
   ]
  },
  {
   "cell_type": "code",
   "execution_count": null,
   "id": "9113cc4e",
   "metadata": {},
   "outputs": [],
   "source": [
    "ws.range(\"A1\").value = \"피카츄\""
   ]
  },
  {
   "cell_type": "code",
   "execution_count": null,
   "id": "784fb60e",
   "metadata": {},
   "outputs": [],
   "source": [
    "ws.range(\"A2\").value = [\"파이리\", \"꼬부기\"]"
   ]
  },
  {
   "cell_type": "code",
   "execution_count": null,
   "id": "de60ecd4",
   "metadata": {},
   "outputs": [],
   "source": [
    "ws.range(\"A2:B2\").copy()"
   ]
  },
  {
   "cell_type": "code",
   "execution_count": null,
   "id": "9adfed8e",
   "metadata": {},
   "outputs": [],
   "source": [
    "ws.range(\"A3\").paste()"
   ]
  },
  {
   "cell_type": "code",
   "execution_count": null,
   "id": "d19ee51b",
   "metadata": {},
   "outputs": [],
   "source": [
    "wb.save(\"포켓몬.xlsx\")"
   ]
  },
  {
   "cell_type": "code",
   "execution_count": null,
   "id": "fe796de5",
   "metadata": {},
   "outputs": [],
   "source": [
    "xw.apps.active.kill()"
   ]
  }
 ],
 "metadata": {
  "kernelspec": {
   "display_name": "py32_test",
   "language": "python",
   "name": "python3"
  },
  "language_info": {
   "codemirror_mode": {
    "name": "ipython",
    "version": 3
   },
   "file_extension": ".py",
   "mimetype": "text/x-python",
   "name": "python",
   "nbconvert_exporter": "python",
   "pygments_lexer": "ipython3",
   "version": "3.10.4"
  }
 },
 "nbformat": 4,
 "nbformat_minor": 5
}

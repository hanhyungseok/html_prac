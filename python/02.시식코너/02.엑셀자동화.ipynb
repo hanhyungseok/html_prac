{
 "cells": [
  {
   "cell_type": "code",
   "execution_count": 4,
   "id": "b454d20e",
   "metadata": {},
   "outputs": [],
   "source": [
    "import xlwings as xw\n",
    "\n",
    "wb = xw.Book()"
   ]
  },
  {
   "cell_type": "code",
   "execution_count": 6,
   "id": "dc5636f9",
   "metadata": {},
   "outputs": [],
   "source": [
    "ws = wb.sheets[\"Sheet1\"]"
   ]
  },
  {
   "cell_type": "code",
   "execution_count": 7,
   "id": "9113cc4e",
   "metadata": {},
   "outputs": [],
   "source": [
    "ws.range(\"A1\").value = \"피카츄\""
   ]
  },
  {
   "cell_type": "code",
   "execution_count": 8,
   "id": "784fb60e",
   "metadata": {},
   "outputs": [],
   "source": [
    "ws.range(\"A2\").value = [\"파이리\", \"꼬부기\"]"
   ]
  },
  {
   "cell_type": "code",
   "execution_count": 9,
   "id": "de60ecd4",
   "metadata": {},
   "outputs": [],
   "source": [
    "ws.range(\"A2:B2\").copy()"
   ]
  },
  {
   "cell_type": "code",
   "execution_count": 10,
   "id": "9adfed8e",
   "metadata": {},
   "outputs": [],
   "source": [
    "ws.range(\"A3\").paste()"
   ]
  },
  {
   "cell_type": "code",
   "execution_count": 11,
   "id": "d19ee51b",
   "metadata": {},
   "outputs": [],
   "source": [
    "wb.save(\"포켓몬.xlsx\")"
   ]
  },
  {
   "cell_type": "code",
   "execution_count": 12,
   "id": "fe796de5",
   "metadata": {},
   "outputs": [],
   "source": [
    "xw.apps.active.kill()"
   ]
  }
 ],
 "metadata": {
  "kernelspec": {
   "display_name": "py32_kw",
   "language": "python",
   "name": "python3"
  },
  "language_info": {
   "codemirror_mode": {
    "name": "ipython",
    "version": 3
   },
   "file_extension": ".py",
   "mimetype": "text/x-python",
   "name": "python",
   "nbconvert_exporter": "python",
   "pygments_lexer": "ipython3",
   "version": "3.10.4"
  }
 },
 "nbformat": 4,
 "nbformat_minor": 5
}

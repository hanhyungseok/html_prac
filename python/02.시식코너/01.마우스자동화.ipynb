{
 "cells": [
  {
   "cell_type": "code",
   "execution_count": 2,
   "id": "42dd9917",
   "metadata": {},
   "outputs": [
    {
     "data": {
      "text/plain": [
       "Point(x=1937, y=1027)"
      ]
     },
     "execution_count": 2,
     "metadata": {},
     "output_type": "execute_result"
    }
   ],
   "source": [
    "import pyautogui\n",
    "import time\n",
    "\n",
    "time.sleep(3)\n",
    "pyautogui.position()"
   ]
  },
  {
   "cell_type": "code",
   "execution_count": 3,
   "id": "fde543f9",
   "metadata": {},
   "outputs": [],
   "source": [
    "pyautogui.moveTo(1952, 1031, duration=0.5)"
   ]
  },
  {
   "cell_type": "code",
   "execution_count": 4,
   "id": "e5ea446e",
   "metadata": {},
   "outputs": [],
   "source": [
    "pyautogui.moveTo(1952, 1031, duration=0.51)\n",
    "pyautogui.click()"
   ]
  }
 ],
 "metadata": {
  "kernelspec": {
   "display_name": "py32_test",
   "language": "python",
   "name": "python3"
  },
  "language_info": {
   "codemirror_mode": {
    "name": "ipython",
    "version": 3
   },
   "file_extension": ".py",
   "mimetype": "text/x-python",
   "name": "python",
   "nbconvert_exporter": "python",
   "pygments_lexer": "ipython3",
   "version": "3.10.4"
  }
 },
 "nbformat": 4,
 "nbformat_minor": 5
}

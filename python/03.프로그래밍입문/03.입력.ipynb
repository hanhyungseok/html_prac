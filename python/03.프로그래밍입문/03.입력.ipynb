{
 "cells": [
  {
   "cell_type": "code",
   "execution_count": 1,
   "id": "74c99107",
   "metadata": {},
   "outputs": [
    {
     "name": "stdout",
     "output_type": "stream",
     "text": [
      "입력한 데이터 배고파\n"
     ]
    }
   ],
   "source": [
    "x = input()\n",
    "print(\"입력한 데이터\", x)"
   ]
  },
  {
   "cell_type": "code",
   "execution_count": 4,
   "id": "614c131b",
   "metadata": {},
   "outputs": [
    {
     "name": "stdout",
     "output_type": "stream",
     "text": [
      "제품의 가격: 3500\n",
      "<class 'int'>\n"
     ]
    }
   ],
   "source": [
    "price = int(input(\"가격을 입력 하세요\"))\n",
    "print(\"제품의 가격:\", price)\n",
    "print(type(price))"
   ]
  }
 ],
 "metadata": {
  "kernelspec": {
   "display_name": "py32_kw",
   "language": "python",
   "name": "python3"
  },
  "language_info": {
   "codemirror_mode": {
    "name": "ipython",
    "version": 3
   },
   "file_extension": ".py",
   "mimetype": "text/x-python",
   "name": "python",
   "nbconvert_exporter": "python",
   "pygments_lexer": "ipython3",
   "version": "3.10.4"
  }
 },
 "nbformat": 4,
 "nbformat_minor": 5
}

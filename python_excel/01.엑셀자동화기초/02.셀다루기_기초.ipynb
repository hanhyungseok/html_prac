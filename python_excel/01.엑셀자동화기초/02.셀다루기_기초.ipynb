{
 "cells": [
  {
   "cell_type": "code",
   "execution_count": 1,
   "id": "e4d4d552",
   "metadata": {},
   "outputs": [],
   "source": [
    "# 퀴즈: 교육이수현황 엑셀 파일을 열고 마케팅팀 시트 선택하기\n",
    "\n",
    "import xlwings as xw\n",
    "\n",
    "app = xw.App(add_book=False)\n",
    "wb = app.books.open(\"교육이수현황.xlsx\")\n",
    "ws = wb.sheets[\"마케팅팀\"]"
   ]
  },
  {
   "cell_type": "code",
   "execution_count": 2,
   "id": "3d861537",
   "metadata": {},
   "outputs": [],
   "source": [
    "\n",
    "ws.activate()"
   ]
  },
  {
   "cell_type": "code",
   "execution_count": 3,
   "id": "9badbc0f",
   "metadata": {},
   "outputs": [],
   "source": [
    "ws.range(\"a1\").value = \"성명\"\n",
    "ws.range(\"b1\").value = \"1월\""
   ]
  },
  {
   "cell_type": "code",
   "execution_count": 4,
   "id": "8324fc4d",
   "metadata": {},
   "outputs": [],
   "source": [
    "ws.range(\"a2\").value = \"리신\"\n",
    "ws.range(\"b2\").value = 12"
   ]
  },
  {
   "cell_type": "code",
   "execution_count": 5,
   "id": "c1efaa3f",
   "metadata": {},
   "outputs": [],
   "source": [
    "# 데이터 여러 개 입력\n",
    "ws.range(\"a3\").value = [\"이즈리얼\", 5]"
   ]
  },
  {
   "cell_type": "code",
   "execution_count": 6,
   "id": "6de131cb",
   "metadata": {},
   "outputs": [],
   "source": [
    "ws.range(\"a4\").value = [[\"야스오\", 0], [\"요네\", 0]]"
   ]
  },
  {
   "cell_type": "code",
   "execution_count": 7,
   "id": "bfd51b38",
   "metadata": {},
   "outputs": [],
   "source": [
    "ws.range(\"a6\").options(transpose=True).value = [\"피즈\", \"샤코\"]"
   ]
  },
  {
   "cell_type": "code",
   "execution_count": 8,
   "id": "e070ef9c",
   "metadata": {},
   "outputs": [],
   "source": [
    "ws.range(\"b6\").options(transpose=True).value = [15.5, 8]"
   ]
  },
  {
   "cell_type": "code",
   "execution_count": 9,
   "id": "a78e7177",
   "metadata": {},
   "outputs": [],
   "source": [
    "# Q. A8 셀에 \"합계\" 입력\n",
    "# ㅠ8 셀에 SUM 수식\n",
    "\n",
    "ws.range(\"a8\").value = [\"합계\", \"=sum(b2:b7)\"]"
   ]
  },
  {
   "cell_type": "code",
   "execution_count": 10,
   "id": "4094558f",
   "metadata": {},
   "outputs": [
    {
     "data": {
      "text/plain": [
       "<Range [교육이수현황.xlsx]마케팅팀!$A$1>"
      ]
     },
     "execution_count": 10,
     "metadata": {},
     "output_type": "execute_result"
    }
   ],
   "source": [
    "# 셀 한 개에 접근하기\n",
    "ws.range(\"a1\")"
   ]
  },
  {
   "cell_type": "code",
   "execution_count": 12,
   "id": "e2343925",
   "metadata": {},
   "outputs": [
    {
     "data": {
      "text/plain": [
       "'성명'"
      ]
     },
     "execution_count": 12,
     "metadata": {},
     "output_type": "execute_result"
    }
   ],
   "source": [
    "# 셀 한 개의 값을 가져오기\n",
    "ws.range(\"a1\").value"
   ]
  },
  {
   "cell_type": "code",
   "execution_count": 11,
   "id": "96edd84a",
   "metadata": {},
   "outputs": [
    {
     "data": {
      "text/plain": [
       "<Range [교육이수현황.xlsx]마케팅팀!$A$1:$B$8>"
      ]
     },
     "execution_count": 11,
     "metadata": {},
     "output_type": "execute_result"
    }
   ],
   "source": [
    "# 셀 여러개 접근하기\n",
    "ws.range(\"a1:b8\")"
   ]
  },
  {
   "cell_type": "code",
   "execution_count": 13,
   "id": "5b8a90f7",
   "metadata": {},
   "outputs": [
    {
     "data": {
      "text/plain": [
       "[['성명', '1월'],\n",
       " ['리신', 12.0],\n",
       " ['이즈리얼', 5.0],\n",
       " ['야스오', 0.0],\n",
       " ['요네', 0.0],\n",
       " ['피즈', 15.5],\n",
       " ['샤코', 8.0],\n",
       " ['합계', 40.5]]"
      ]
     },
     "execution_count": 13,
     "metadata": {},
     "output_type": "execute_result"
    }
   ],
   "source": [
    "# 셀 여러개 값을 가져오기\n",
    "ws.range(\"a1:b8\").value"
   ]
  },
  {
   "cell_type": "code",
   "execution_count": 14,
   "id": "d9ae7dc8",
   "metadata": {},
   "outputs": [],
   "source": [
    "ws.range(\"c1\").value = [\"2월\", \"3월\"]"
   ]
  },
  {
   "cell_type": "code",
   "execution_count": 19,
   "id": "df14eaad",
   "metadata": {},
   "outputs": [],
   "source": [
    "# 복사하기\n",
    "ws.range(\"b2:b8\").copy()"
   ]
  },
  {
   "cell_type": "code",
   "execution_count": 20,
   "id": "76ebe6c0",
   "metadata": {},
   "outputs": [],
   "source": [
    "# 붙여넣기\n",
    "ws.range(\"c2\").paste()\n",
    "ws.range(\"d2\").paste()"
   ]
  },
  {
   "cell_type": "code",
   "execution_count": null,
   "id": "db9cf459",
   "metadata": {},
   "outputs": [
    {
     "data": {
      "text/plain": [
       "['성명', '리신', '이즈리얼', '야스오', '요네', '피즈', '샤코', '합계']"
      ]
     },
     "execution_count": 21,
     "metadata": {},
     "output_type": "execute_result"
    }
   ],
   "source": [
    "# 셀 확장해서 선택하기(아래)\n",
    "ws.range(\"a1\").expand(\"down\").value"
   ]
  },
  {
   "cell_type": "code",
   "execution_count": 22,
   "id": "1b7ae356",
   "metadata": {},
   "outputs": [
    {
     "data": {
      "text/plain": [
       "['성명', '1월', '2월', '3월']"
      ]
     },
     "execution_count": 22,
     "metadata": {},
     "output_type": "execute_result"
    }
   ],
   "source": [
    "# 셀 확장해서 선택하기(오른쪽)\n",
    "ws.range(\"a1\").expand(\"right\").value"
   ]
  },
  {
   "cell_type": "code",
   "execution_count": 23,
   "id": "bdf526ab",
   "metadata": {},
   "outputs": [
    {
     "data": {
      "text/plain": [
       "[['성명', '1월', '2월', '3월'],\n",
       " ['리신', 12.0, 12.0, 12.0],\n",
       " ['이즈리얼', 5.0, 5.0, 5.0],\n",
       " ['야스오', 0.0, 0.0, 0.0],\n",
       " ['요네', 0.0, 0.0, 0.0],\n",
       " ['피즈', 15.5, 15.5, 15.5],\n",
       " ['샤코', 8.0, 8.0, 8.0],\n",
       " ['합계', 40.5, 40.5, 40.5]]"
      ]
     },
     "execution_count": 23,
     "metadata": {},
     "output_type": "execute_result"
    }
   ],
   "source": [
    "# 셀 확장해서 선택하기(테이블)\n",
    "ws.range(\"a1\").expand(\"table\").value"
   ]
  },
  {
   "cell_type": "code",
   "execution_count": 24,
   "id": "203bcfe5",
   "metadata": {},
   "outputs": [],
   "source": [
    "# 폰트 변경\n",
    "ws.range(\"a1:d1\").font.size = 13"
   ]
  },
  {
   "cell_type": "code",
   "execution_count": 26,
   "id": "483a26d1",
   "metadata": {},
   "outputs": [],
   "source": [
    "ws.range(\"a1:d1\").font.italic = True"
   ]
  },
  {
   "cell_type": "code",
   "execution_count": 27,
   "id": "548e1d35",
   "metadata": {},
   "outputs": [],
   "source": [
    "ws.range(\"a1:d1\").color = (255, 125, 0)"
   ]
  },
  {
   "cell_type": "code",
   "execution_count": 28,
   "id": "16659275",
   "metadata": {},
   "outputs": [],
   "source": [
    "ws.range(\"a1:d1\").font.color = (25, 250, 250)"
   ]
  },
  {
   "cell_type": "code",
   "execution_count": 29,
   "id": "e76200be",
   "metadata": {},
   "outputs": [],
   "source": [
    "wb.save()\n",
    "app.quit()"
   ]
  }
 ],
 "metadata": {
  "kernelspec": {
   "display_name": "py32_test",
   "language": "python",
   "name": "python3"
  },
  "language_info": {
   "codemirror_mode": {
    "name": "ipython",
    "version": 3
   },
   "file_extension": ".py",
   "mimetype": "text/x-python",
   "name": "python",
   "nbconvert_exporter": "python",
   "pygments_lexer": "ipython3",
   "version": "3.10.4"
  }
 },
 "nbformat": 4,
 "nbformat_minor": 5
}

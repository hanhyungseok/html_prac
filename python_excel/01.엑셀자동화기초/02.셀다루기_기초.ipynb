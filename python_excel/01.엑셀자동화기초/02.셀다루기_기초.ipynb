{
 "cells": [
  {
   "cell_type": "code",
   "execution_count": null,
   "id": "e4d4d552",
   "metadata": {},
   "outputs": [],
   "source": [
    "# 퀴즈: 교육이수현황 엑셀 파일을 열고 마케팅팀 시트 선택하기\n",
    "\n",
    "import xlwings as xw\n",
    "\n",
    "app = xw.App(add_book=False)\n",
    "wb = app.books.open(\"교육이수현황.xlsx\")\n",
    "ws = wb.sheets[\"마케팅팀\"]"
   ]
  },
  {
   "cell_type": "code",
   "execution_count": 4,
   "id": "3d861537",
   "metadata": {},
   "outputs": [],
   "source": [
    "\n",
    "ws.activate()"
   ]
  },
  {
   "cell_type": "code",
   "execution_count": 5,
   "id": "9badbc0f",
   "metadata": {},
   "outputs": [],
   "source": [
    "ws.range(\"a1\").value = \"성명\"\n",
    "ws.range(\"b1\").value = \"1월\""
   ]
  },
  {
   "cell_type": "code",
   "execution_count": 6,
   "id": "8324fc4d",
   "metadata": {},
   "outputs": [],
   "source": [
    "ws.range(\"a2\").value = \"리신\"\n",
    "ws.range(\"b2\").value = 12"
   ]
  },
  {
   "cell_type": "code",
   "execution_count": 7,
   "id": "c1efaa3f",
   "metadata": {},
   "outputs": [],
   "source": [
    "# 데이터 여러 개 입력\n",
    "ws.range(\"a3\").value = [\"이즈리얼\", 5]"
   ]
  },
  {
   "cell_type": "code",
   "execution_count": 8,
   "id": "6de131cb",
   "metadata": {},
   "outputs": [],
   "source": [
    "ws.range(\"a4\").value = [[\"야스오\", 0], [\"요네\", 0]]"
   ]
  },
  {
   "cell_type": "code",
   "execution_count": 10,
   "id": "bfd51b38",
   "metadata": {},
   "outputs": [],
   "source": [
    "ws.range(\"a6\").options(transpose=True).value = [\"피즈\", \"샤코\"]"
   ]
  },
  {
   "cell_type": "code",
   "execution_count": 11,
   "id": "e070ef9c",
   "metadata": {},
   "outputs": [],
   "source": [
    "ws.range(\"b6\").options(transpose=True).value = [15.5, 8]"
   ]
  },
  {
   "cell_type": "code",
   "execution_count": 12,
   "id": "a78e7177",
   "metadata": {},
   "outputs": [],
   "source": [
    "# Q. A8 셀에 \"합계\" 입력\n",
    "# ㅠ8 셀에 SUM 수식\n",
    "\n",
    "ws.range(\"a8\").value = [\"합계\", \"=sum(b2:b7)\"]"
   ]
  },
  {
   "cell_type": "code",
   "execution_count": 13,
   "id": "c206ecf1",
   "metadata": {},
   "outputs": [
    {
     "data": {
      "text/plain": [
       "<Range [교육이수현황.xlsx]마케팅팀!$A$1>"
      ]
     },
     "execution_count": 13,
     "metadata": {},
     "output_type": "execute_result"
    }
   ],
   "source": [
    "# 셀 한 개에 접근하기\n",
    "ws.range(\"a1\")"
   ]
  },
  {
   "cell_type": "code",
   "execution_count": 14,
   "id": "f52ff2d7",
   "metadata": {},
   "outputs": [],
   "source": [
    "app.quit()"
   ]
  }
 ],
 "metadata": {
  "kernelspec": {
   "display_name": "py32_test",
   "language": "python",
   "name": "python3"
  },
  "language_info": {
   "codemirror_mode": {
    "name": "ipython",
    "version": 3
   },
   "file_extension": ".py",
   "mimetype": "text/x-python",
   "name": "python",
   "nbconvert_exporter": "python",
   "pygments_lexer": "ipython3",
   "version": "3.10.4"
  }
 },
 "nbformat": 4,
 "nbformat_minor": 5
}

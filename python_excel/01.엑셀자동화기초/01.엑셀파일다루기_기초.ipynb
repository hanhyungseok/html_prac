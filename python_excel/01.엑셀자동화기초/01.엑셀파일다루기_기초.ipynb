{
 "cells": [
  {
   "cell_type": "code",
   "execution_count": null,
   "id": "3ae025b9",
   "metadata": {},
   "outputs": [
    {
     "data": {
      "text/plain": [
       "<App [excel] 22060>"
      ]
     },
     "execution_count": 1,
     "metadata": {},
     "output_type": "execute_result"
    }
   ],
   "source": [
    "import xlwings as xw\n",
    "\n",
    "# 엑셀 앱 만들기\n",
    "app = xw.App(add_book=False)\n",
    "app"
   ]
  },
  {
   "cell_type": "code",
   "execution_count": 2,
   "id": "c7744b78",
   "metadata": {},
   "outputs": [
    {
     "data": {
      "text/plain": [
       "<Book [Book1]>"
      ]
     },
     "execution_count": 2,
     "metadata": {},
     "output_type": "execute_result"
    }
   ],
   "source": [
    "# 엑셀 워크북 만들기\n",
    "wb = app.books.add()\n",
    "wb"
   ]
  },
  {
   "cell_type": "code",
   "execution_count": null,
   "id": "58adde92",
   "metadata": {},
   "outputs": [
    {
     "data": {
      "text/plain": [
       "<Sheet [Book1]Sheet1>"
      ]
     },
     "execution_count": 3,
     "metadata": {},
     "output_type": "execute_result"
    }
   ],
   "source": [
    "# 워크시트 선책(이름)\n",
    "ws = wb.sheets[\"Sheet1\"]\n",
    "ws"
   ]
  },
  {
   "cell_type": "code",
   "execution_count": 5,
   "id": "9d0b8ff6",
   "metadata": {},
   "outputs": [],
   "source": [
    "ws.name = \"영업1팀\""
   ]
  },
  {
   "cell_type": "code",
   "execution_count": 8,
   "id": "b254e053",
   "metadata": {},
   "outputs": [],
   "source": [
    "# 다른 이름으로 저장\n",
    "wb.save(\"교육이수현황.xlsx\")"
   ]
  },
  {
   "cell_type": "code",
   "execution_count": 9,
   "id": "e4d2adaa",
   "metadata": {},
   "outputs": [],
   "source": [
    "# 엑셀 앱 종료\n",
    "app.quit()"
   ]
  },
  {
   "cell_type": "code",
   "execution_count": 10,
   "id": "2731da81",
   "metadata": {},
   "outputs": [],
   "source": [
    "# 엑셀 앱 만들기\n",
    "app = xw.App(add_book=False)"
   ]
  },
  {
   "cell_type": "code",
   "execution_count": 11,
   "id": "d950fac4",
   "metadata": {},
   "outputs": [],
   "source": [
    "# 엑셀 워크북 불러오기\n",
    "wb = app.books.open(\"교육이수현황.xlsx\")"
   ]
  },
  {
   "cell_type": "code",
   "execution_count": 13,
   "id": "7320db49",
   "metadata": {},
   "outputs": [
    {
     "data": {
      "text/plain": [
       "<Sheet [교육이수현황.xlsx]마테팅팀>"
      ]
     },
     "execution_count": 13,
     "metadata": {},
     "output_type": "execute_result"
    }
   ],
   "source": [
    "wb.sheets.add(\"영업2팀\")\n",
    "wb.sheets.add(\"마테팅팀\")"
   ]
  },
  {
   "cell_type": "code",
   "execution_count": 16,
   "id": "deae46ac",
   "metadata": {},
   "outputs": [],
   "source": [
    "wb.sheets[\"마테팅팀\"].name = \"마케팅팀\""
   ]
  },
  {
   "cell_type": "code",
   "execution_count": 17,
   "id": "98727828",
   "metadata": {},
   "outputs": [
    {
     "data": {
      "text/plain": [
       "<Sheet [교육이수현황.xlsx]세무회계팀>"
      ]
     },
     "execution_count": 17,
     "metadata": {},
     "output_type": "execute_result"
    }
   ],
   "source": [
    "wb.sheets.add(name=\"세무회계팀\", before=\"영업2팀\")"
   ]
  },
  {
   "cell_type": "code",
   "execution_count": 18,
   "id": "18b9eb74",
   "metadata": {},
   "outputs": [
    {
     "data": {
      "text/plain": [
       "<Sheet [교육이수현황.xlsx]영업3팀>"
      ]
     },
     "execution_count": 18,
     "metadata": {},
     "output_type": "execute_result"
    }
   ],
   "source": [
    "wb.sheets.add(name=\"영업3팀\", after=\"영업2팀\")"
   ]
  },
  {
   "cell_type": "code",
   "execution_count": 24,
   "id": "166146ca",
   "metadata": {},
   "outputs": [
    {
     "data": {
      "text/plain": [
       "<Sheet [교육이수현황.xlsx]영업3팀>"
      ]
     },
     "execution_count": 24,
     "metadata": {},
     "output_type": "execute_result"
    }
   ],
   "source": [
    "# 워크 시트 선택(인덱스)\n",
    "wb.sheets[3]"
   ]
  },
  {
   "cell_type": "code",
   "execution_count": 25,
   "id": "37f02ed3",
   "metadata": {},
   "outputs": [],
   "source": [
    "# 시트 삭제\n",
    "wb.sheets[\"영업3팀\"].delete()"
   ]
  },
  {
   "cell_type": "code",
   "execution_count": 26,
   "id": "42918aba",
   "metadata": {},
   "outputs": [],
   "source": [
    "wb.sheets[\"마케팅팀\"].activate()"
   ]
  },
  {
   "cell_type": "code",
   "execution_count": 27,
   "id": "179799da",
   "metadata": {},
   "outputs": [],
   "source": [
    "wb.save()"
   ]
  },
  {
   "cell_type": "code",
   "execution_count": 28,
   "id": "1d24a147",
   "metadata": {},
   "outputs": [],
   "source": [
    "app.quit()"
   ]
  }
 ],
 "metadata": {
  "kernelspec": {
   "display_name": "py32_test",
   "language": "python",
   "name": "python3"
  },
  "language_info": {
   "codemirror_mode": {
    "name": "ipython",
    "version": 3
   },
   "file_extension": ".py",
   "mimetype": "text/x-python",
   "name": "python",
   "nbconvert_exporter": "python",
   "pygments_lexer": "ipython3",
   "version": "3.10.4"
  }
 },
 "nbformat": 4,
 "nbformat_minor": 5
}

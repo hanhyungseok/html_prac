{
 "cells": [
  {
   "cell_type": "code",
   "execution_count": 4,
   "id": "7b01f897",
   "metadata": {},
   "outputs": [
    {
     "data": {
      "text/plain": [
       "'./카스'"
      ]
     },
     "execution_count": 4,
     "metadata": {},
     "output_type": "execute_result"
    }
   ],
   "source": [
    "import shutil\n",
    "\n",
    "shutil.move(\"../카스\", \"./\")"
   ]
  },
  {
   "cell_type": "code",
   "execution_count": 5,
   "id": "3d12b8a5",
   "metadata": {},
   "outputs": [
    {
     "data": {
      "text/plain": [
       "'카스\\\\일기.txt'"
      ]
     },
     "execution_count": 5,
     "metadata": {},
     "output_type": "execute_result"
    }
   ],
   "source": [
    "shutil.move(\"일기.txt\", \"카스\")"
   ]
  },
  {
   "cell_type": "code",
   "execution_count": 6,
   "id": "b5413622",
   "metadata": {},
   "outputs": [
    {
     "data": {
      "text/plain": [
       "'카스\\\\일기1.txt'"
      ]
     },
     "execution_count": 6,
     "metadata": {},
     "output_type": "execute_result"
    }
   ],
   "source": [
    "shutil.move(\"일기1.txt\", \"카스\")"
   ]
  },
  {
   "cell_type": "code",
   "execution_count": 7,
   "id": "af74dc0b",
   "metadata": {},
   "outputs": [
    {
     "data": {
      "text/plain": [
       "'테라\\\\일기.txt'"
      ]
     },
     "execution_count": 7,
     "metadata": {},
     "output_type": "execute_result"
    }
   ],
   "source": [
    "shutil.copy(\"카스/일기.txt\", \"테라\")"
   ]
  }
 ],
 "metadata": {
  "kernelspec": {
   "display_name": "py32_test",
   "language": "python",
   "name": "python3"
  },
  "language_info": {
   "codemirror_mode": {
    "name": "ipython",
    "version": 3
   },
   "file_extension": ".py",
   "mimetype": "text/x-python",
   "name": "python",
   "nbconvert_exporter": "python",
   "pygments_lexer": "ipython3",
   "version": "3.10.4"
  }
 },
 "nbformat": 4,
 "nbformat_minor": 5
}

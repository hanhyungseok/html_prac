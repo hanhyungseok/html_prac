{
 "cells": [
  {
   "cell_type": "code",
   "execution_count": 1,
   "id": "512357dc",
   "metadata": {},
   "outputs": [],
   "source": [
    "import os\n",
    "\n",
    "# 상대 결로 이용\n",
    "os.mkdir(\"참이슬\")"
   ]
  },
  {
   "cell_type": "code",
   "execution_count": 2,
   "id": "688037ea",
   "metadata": {},
   "outputs": [],
   "source": [
    "# 상대 경로 이용\n",
    "os.mkdir(\"참이슬/후레쉬\")"
   ]
  },
  {
   "cell_type": "code",
   "execution_count": null,
   "id": "d6231410",
   "metadata": {},
   "outputs": [],
   "source": [
    "# 상대 경로 이용\n",
    "# os.mkdir(\"../카스\")"
   ]
  },
  {
   "cell_type": "code",
   "execution_count": null,
   "id": "47c6b649",
   "metadata": {},
   "outputs": [],
   "source": [
    "# 절대 경로 이용 1\n",
    "os.mkdir(\"c:/Users/user/Desktop/code_prac/python_excel/02.폴더및파일관리/테라\")"
   ]
  },
  {
   "cell_type": "code",
   "execution_count": 12,
   "id": "24d01e29",
   "metadata": {},
   "outputs": [],
   "source": [
    "# 절대 경로 이용 2\n",
    "cwd_pass = os.getcwd()\n",
    "folder_pass = os.path.join(cwd_pass, \"테라\")\n",
    "os.makedirs(folder_pass, exist_ok=True)"
   ]
  },
  {
   "cell_type": "code",
   "execution_count": null,
   "id": "f7861339",
   "metadata": {},
   "outputs": [],
   "source": [
    "# 일반적으로는 os.makedirs(folder_pass, exist_ok=True) 방식이 권장 됨.\n",
    "if not os.path.exists(folder_pass):\n",
    "\tos.mkdir(folder_pass)"
   ]
  }
 ],
 "metadata": {
  "kernelspec": {
   "display_name": "py32_test",
   "language": "python",
   "name": "python3"
  },
  "language_info": {
   "codemirror_mode": {
    "name": "ipython",
    "version": 3
   },
   "file_extension": ".py",
   "mimetype": "text/x-python",
   "name": "python",
   "nbconvert_exporter": "python",
   "pygments_lexer": "ipython3",
   "version": "3.10.4"
  }
 },
 "nbformat": 4,
 "nbformat_minor": 5
}

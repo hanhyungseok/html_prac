{
 "cells": [
  {
   "cell_type": "code",
   "execution_count": null,
   "id": "a0a20a0f",
   "metadata": {},
   "outputs": [],
   "source": [
    "import glob\n",
    "\n",
    "glob.glob(\"참이슬/sale_data1.txt\")"
   ]
  },
  {
   "cell_type": "code",
   "execution_count": null,
   "id": "ad31a396",
   "metadata": {},
   "outputs": [],
   "source": [
    "# ? 표 기호: 문자의 종류와 상관없이 정확히 한 글자와 매칭\n",
    "\n",
    "glob.glob(\"참이슬/sale_data?.txt\")"
   ]
  },
  {
   "cell_type": "code",
   "execution_count": null,
   "id": "fe078705",
   "metadata": {},
   "outputs": [],
   "source": [
    "# *표 기호: 길이와 상관없이 모든 문자열과 매칭\n",
    "\n",
    "glob.glob(\"참이슬/*.txt\")"
   ]
  },
  {
   "cell_type": "code",
   "execution_count": null,
   "id": "88b96784",
   "metadata": {},
   "outputs": [],
   "source": [
    "# [] 기호: [] 괄호 안에 있는 문자 하나와 매칭. ex) [aeiou], [0-9]\n",
    "\n",
    "glob.glob(\"참이슬/sale_data[123].txt\")"
   ]
  }
 ],
 "metadata": {
  "kernelspec": {
   "display_name": "py32_test",
   "language": "python",
   "name": "python3"
  },
  "language_info": {
   "codemirror_mode": {
    "name": "ipython",
    "version": 3
   },
   "file_extension": ".py",
   "mimetype": "text/x-python",
   "name": "python",
   "nbconvert_exporter": "python",
   "pygments_lexer": "ipython3",
   "version": "3.10.4"
  }
 },
 "nbformat": 4,
 "nbformat_minor": 5
}

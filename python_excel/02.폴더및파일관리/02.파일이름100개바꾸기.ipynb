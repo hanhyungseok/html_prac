{
 "cells": [
  {
   "cell_type": "code",
   "execution_count": null,
   "id": "f05fd50c",
   "metadata": {},
   "outputs": [],
   "source": [
    "for i in range(1, 101):\n",
    "\tprint(i)"
   ]
  },
  {
   "cell_type": "code",
   "execution_count": null,
   "id": "912ab482",
   "metadata": {},
   "outputs": [],
   "source": [
    "# f = open(\"일기.txt\", \"w\", encoding=\"utf-8\")\n",
    "# f.write(\"오늘 한 잔 하고 싶은 날이다\")\n",
    "# f.close()"
   ]
  },
  {
   "cell_type": "code",
   "execution_count": null,
   "id": "3a706275",
   "metadata": {},
   "outputs": [],
   "source": [
    "# num = 1\n",
    "# f = open(f\"일기{num}.txt\", \"w\", encoding=\"utf-8\")\n",
    "# f.write(\"오늘 한 잔 하고 싶은 날이다\")\n",
    "# f.close()"
   ]
  },
  {
   "cell_type": "code",
   "execution_count": null,
   "id": "870a9138",
   "metadata": {},
   "outputs": [],
   "source": [
    "# 파일 100개 만들기\n",
    "import random\n",
    "\n",
    "for i in range(1, 101):\n",
    "\tf = open(f\"참이슬/판매_데이터{i}.txt\", \"w\", encoding=\"utf-8\")\n",
    "\tf.write(f\"{random.randint(1, 100)} 병\")\n",
    "\tf.close()"
   ]
  },
  {
   "cell_type": "code",
   "execution_count": null,
   "id": "75641512",
   "metadata": {},
   "outputs": [],
   "source": [
    "# 파일 이름 100개 수정하기\n",
    "import os\n",
    "\n",
    "현재폴더 = os.getcwd()\n",
    "folder_pass = os.path.join(현재폴더, \"참이슬\")\n",
    "old_part = \"판매_데이터\"\n",
    "new_part = \"sale_data\"\n",
    "\n",
    "for filename in os.listdir(folder_pass):\n",
    "\tif old_part in filename:\n",
    "\t\told_path = os.path.join(folder_pass, filename)\n",
    "\t\tnew_filename = filename.replace(old_part, new_part)\n",
    "\t\tnew_path = os.path.join(folder_pass, new_filename)\n",
    "\t\tos.rename(old_path, new_path)"
   ]
  },
  {
   "cell_type": "code",
   "execution_count": null,
   "id": "8278bece",
   "metadata": {},
   "outputs": [],
   "source": [
    "# # 연습 후 연습한 파일을 삭제하고 싶을때만 실행할 것.\n",
    "# import os\n",
    "\n",
    "# 현재폴더 = os.getcwd()\n",
    "# folder_pass = os.path.join(현재폴더, \"참이슬\")\n",
    "# new_part = \"sale_data\"\n",
    "\n",
    "# for filename in os.listdir(folder_pass):\n",
    "# \tfull_path = os.path.join(folder_pass, filename)\n",
    "# \t# print(full_path)\n",
    "# \tif os.path.isfile(full_path) and new_part in filename:\n",
    "# \t\tos.remove(full_path)"
   ]
  }
 ],
 "metadata": {
  "kernelspec": {
   "display_name": "py32_test",
   "language": "python",
   "name": "python3"
  },
  "language_info": {
   "codemirror_mode": {
    "name": "ipython",
    "version": 3
   },
   "file_extension": ".py",
   "mimetype": "text/x-python",
   "name": "python",
   "nbconvert_exporter": "python",
   "pygments_lexer": "ipython3",
   "version": "3.10.4"
  }
 },
 "nbformat": 4,
 "nbformat_minor": 5
}
